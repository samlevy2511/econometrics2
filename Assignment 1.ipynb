{
 "cells": [
  {
   "cell_type": "markdown",
   "metadata": {},
   "source": [
    "# Assignment 1\n",
    "\n",
    "## Model of invention\n",
    "\n",
    "- Choices for period t: $d_t \\in \\{0,1\\}$, where $d_t = 0$ is \"doing something else\" in period $t$ and $d_t=1$ is \"inventing\".\n",
    "- Lifetime choices $\\{d_t\\}_{t=1}^{T}$\n",
    "- Each period: ** fixed ** probability $\\xi$ (ability parameter) that \"draw\" a successful new product/firm. Value of the prize is normalized to one.\n",
    "- $x_t \\in \\{0,1\\}$, where $x_t=1$ when the invention is successful and $x_t=0$ when it is not.\n",
    "- Value of \"doing something else\" ($d_t = 0$) is a constant $w$.\n",
    "- Subjective discount factor of $\\beta$.\n",
    "- Lifetime utility is $$\\sum_{t=0}^{\\infty}\\beta^t [\\ d_t\\ I\\{x_t=1\\}+(1-d_t)\\ w]$$\n",
    "- If you knew $\\xi$, then you'd choose $d_t=1$ for all t if $\\xi > w$\n",
    "- But we don't know $\\xi$; however we do know that $\\xi \\sim Beta(\\gamma,\\delta) = \\dfrac{\\Gamma(\\gamma)\\ \\Gamma(\\delta)}{\\Gamma(\\gamma+\\delta)}$\n",
    "- Parameters of the model: $w, \\beta, \\delta, \\gamma$.\n"
   ]
  },
  {
   "cell_type": "markdown",
   "metadata": {},
   "source": [
    "### Question 1\n",
    "\n",
    "Prove that it is never optimal to \"do something else\" in any period $t$ and invent in period $t+1$.\n",
    "\n",
    "Assume that $E(\\gamma)<w$ at time $t$ then there must be $E(\\gamma)<w$ at time $t+1$. "
   ]
  },
  {
   "cell_type": "markdown",
   "metadata": {},
   "source": [
    "### Question 2\n",
    "\n",
    "For $T=2$\n"
   ]
  },
  {
   "cell_type": "markdown",
   "metadata": {},
   "source": [
    "### Question 7"
   ]
  },
  {
   "cell_type": "code",
   "execution_count": 1,
   "metadata": {},
   "outputs": [
    {
     "name": "stdout",
     "output_type": "stream",
     "text": [
      "\n",
      "ans =\n",
      "\n",
      "     4\n",
      "\n",
      "\n"
     ]
    }
   ],
   "source": [
    "2+2"
   ]
  },
  {
   "cell_type": "code",
   "execution_count": null,
   "metadata": {},
   "outputs": [],
   "source": []
  }
 ],
 "metadata": {
  "kernelspec": {
   "display_name": "Matlab",
   "language": "matlab",
   "name": "matlab"
  },
  "language_info": {
   "codemirror_mode": "octave",
   "file_extension": ".m",
   "help_links": [
    {
     "text": "MetaKernel Magics",
     "url": "https://github.com/calysto/metakernel/blob/master/metakernel/magics/README.md"
    }
   ],
   "mimetype": "text/x-octave",
   "name": "matlab",
   "version": "0.15.2"
  }
 },
 "nbformat": 4,
 "nbformat_minor": 2
}
