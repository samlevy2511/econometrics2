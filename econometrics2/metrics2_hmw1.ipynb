{
 "cells": [
  {
   "cell_type": "markdown",
   "metadata": {},
   "source": [
    "Model of invention\n",
    "\n",
    "- Choices for period t: $d_t \\in \\{0,1\\}$, where $d_t = 0$ is \"doing something else\" in period $t$ and $d_t=1$ is \"inventing\".\n",
    "- Lifetime choices $\\{d_t\\}_{t=1}^{T}$\n",
    "- Each period: fixed probability $\\xi$ (ability parameter) that \"draw\" a successful new product/firm. Value of the prize is normalized to one.\n",
    "- $x_t \\in \\{0,1\\}$, where $x_t=1$ when the invention is successful and $x_t=0$ when it is not.\n",
    "- Value of \"doing something else\" ($d_t = 0$) is a constant $w$.\n",
    "- Subjective discount factor of $\\beta$.\n",
    "- Lifetime utility is $$\\sum_{t=0}^{\\infty}\\beta^t [\\ d_t\\ I\\{x_t=1\\}+(1-d_t)\\ w]$$\n"
   ]
  },
  {
   "cell_type": "code",
   "execution_count": null,
   "metadata": {},
   "outputs": [],
   "source": []
  }
 ],
 "metadata": {
  "kernelspec": {
   "display_name": "Matlab",
   "language": "matlab",
   "name": "matlab"
  },
  "language_info": {
   "codemirror_mode": "octave",
   "file_extension": ".m",
   "help_links": [
    {
     "text": "MetaKernel Magics",
     "url": "https://github.com/calysto/metakernel/blob/master/metakernel/magics/README.md"
    }
   ],
   "mimetype": "text/x-octave",
   "name": "matlab",
   "version": "0.15.2"
  }
 },
 "nbformat": 4,
 "nbformat_minor": 2
}
